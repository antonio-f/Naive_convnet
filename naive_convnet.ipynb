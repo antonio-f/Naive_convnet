{
 "cells": [
  {
   "cell_type": "markdown",
   "metadata": {},
   "source": [
    "# Naive Convolutional Neural Network with TensorFlow 2"
   ]
  },
  {
   "cell_type": "markdown",
   "metadata": {},
   "source": [
    "## Import libraries"
   ]
  },
  {
   "cell_type": "code",
   "execution_count": 1,
   "metadata": {},
   "outputs": [],
   "source": [
    "import numpy as np\n",
    "\n",
    "from tensorflow.keras.layers import Input, Flatten, Dense, Conv2D\n",
    "from tensorflow.keras.models import Model\n",
    "from tensorflow.keras.optimizers import Adam\n",
    "from tensorflow.keras.utils import to_categorical\n",
    "\n",
    "from tensorflow.keras.datasets import cifar10"
   ]
  },
  {
   "cell_type": "markdown",
   "metadata": {},
   "source": [
    "## Load data"
   ]
  },
  {
   "cell_type": "code",
   "execution_count": 2,
   "metadata": {},
   "outputs": [],
   "source": [
    "NUM_CLASSES = 10"
   ]
  },
  {
   "cell_type": "code",
   "execution_count": 3,
   "metadata": {},
   "outputs": [],
   "source": [
    "(x_train, y_train), (x_test, y_test) = cifar10.load_data()"
   ]
  },
  {
   "cell_type": "code",
   "execution_count": 4,
   "metadata": {},
   "outputs": [
    {
     "data": {
      "text/plain": [
       "(50000, 32, 32, 3)"
      ]
     },
     "execution_count": 4,
     "metadata": {},
     "output_type": "execute_result"
    }
   ],
   "source": [
    "x_train.shape # 50k training examples"
   ]
  },
  {
   "cell_type": "code",
   "execution_count": 5,
   "metadata": {},
   "outputs": [
    {
     "data": {
      "text/plain": [
       "(10000, 32, 32, 3)"
      ]
     },
     "execution_count": 5,
     "metadata": {},
     "output_type": "execute_result"
    }
   ],
   "source": [
    "x_test.shape # testing on 10k examples"
   ]
  },
  {
   "cell_type": "code",
   "execution_count": 6,
   "metadata": {},
   "outputs": [],
   "source": [
    "x_train = x_train.astype('float32') / 255.0\n",
    "x_test = x_test.astype('float32') / 255.0\n",
    "\n",
    "y_train = to_categorical(y_train, NUM_CLASSES)\n",
    "y_test = to_categorical(y_test, NUM_CLASSES)"
   ]
  },
  {
   "cell_type": "code",
   "execution_count": 7,
   "metadata": {},
   "outputs": [
    {
     "data": {
      "text/plain": [
       "array([0.8666667, 0.8745098, 0.8745098], dtype=float32)"
      ]
     },
     "execution_count": 7,
     "metadata": {},
     "output_type": "execute_result"
    }
   ],
   "source": [
    "x_train[54,11,17]"
   ]
  },
  {
   "cell_type": "code",
   "execution_count": 8,
   "metadata": {},
   "outputs": [
    {
     "data": {
      "text/plain": [
       "0.5882353"
      ]
     },
     "execution_count": 8,
     "metadata": {},
     "output_type": "execute_result"
    }
   ],
   "source": [
    "x_train[0, 12, 13, 1] "
   ]
  },
  {
   "cell_type": "markdown",
   "metadata": {},
   "source": [
    "## Naive architecture"
   ]
  },
  {
   "cell_type": "code",
   "execution_count": 9,
   "metadata": {},
   "outputs": [],
   "source": [
    "input_layer = Input(shape=(32,32,3))\n",
    "\n",
    "conv_layer_1 = Conv2D(\n",
    "    filters = 10\n",
    "    , kernel_size = (4,4)\n",
    "    , strides = 2\n",
    "    , padding = 'same'\n",
    "    )(input_layer)\n",
    "\n",
    "conv_layer_2 = Conv2D(\n",
    "    filters = 20\n",
    "    , kernel_size = (3,3)\n",
    "    , strides = 2\n",
    "    , padding = 'same'\n",
    "    )(conv_layer_1)\n",
    "\n",
    "flatten_layer = Flatten()(conv_layer_2)\n",
    "\n",
    "output_layer = Dense(units=10, activation = 'softmax')(flatten_layer)\n",
    "\n",
    "model = Model(input_layer, output_layer)"
   ]
  },
  {
   "cell_type": "code",
   "execution_count": 10,
   "metadata": {},
   "outputs": [
    {
     "name": "stdout",
     "output_type": "stream",
     "text": [
      "Model: \"model\"\n",
      "_________________________________________________________________\n",
      "Layer (type)                 Output Shape              Param #   \n",
      "=================================================================\n",
      "input_1 (InputLayer)         [(None, 32, 32, 3)]       0         \n",
      "_________________________________________________________________\n",
      "conv2d (Conv2D)              (None, 16, 16, 10)        490       \n",
      "_________________________________________________________________\n",
      "conv2d_1 (Conv2D)            (None, 8, 8, 20)          1820      \n",
      "_________________________________________________________________\n",
      "flatten (Flatten)            (None, 1280)              0         \n",
      "_________________________________________________________________\n",
      "dense (Dense)                (None, 10)                12810     \n",
      "=================================================================\n",
      "Total params: 15,120\n",
      "Trainable params: 15,120\n",
      "Non-trainable params: 0\n",
      "_________________________________________________________________\n"
     ]
    }
   ],
   "source": [
    "model.summary()"
   ]
  },
  {
   "cell_type": "markdown",
   "metadata": {},
   "source": [
    "## Model training"
   ]
  },
  {
   "cell_type": "code",
   "execution_count": 11,
   "metadata": {},
   "outputs": [],
   "source": [
    "opt = Adam(lr=0.0005)\n",
    "model.compile(loss='categorical_crossentropy', optimizer=opt, metrics=['accuracy'])"
   ]
  },
  {
   "cell_type": "code",
   "execution_count": 12,
   "metadata": {},
   "outputs": [
    {
     "name": "stdout",
     "output_type": "stream",
     "text": [
      "Train on 50000 samples, validate on 10000 samples\n",
      "Epoch 1/10\n",
      "50000/50000 [==============================] - 8s 167us/sample - loss: 1.8391 - accuracy: 0.3581 - val_loss: 1.7434 - val_accuracy: 0.4003\n",
      "Epoch 2/10\n",
      "50000/50000 [==============================] - 8s 158us/sample - loss: 1.7367 - accuracy: 0.4057 - val_loss: 1.7228 - val_accuracy: 0.4027\n",
      "Epoch 3/10\n",
      "50000/50000 [==============================] - 7s 149us/sample - loss: 1.7163 - accuracy: 0.4128 - val_loss: 1.7212 - val_accuracy: 0.3991\n",
      "Epoch 4/10\n",
      "50000/50000 [==============================] - 7s 150us/sample - loss: 1.7057 - accuracy: 0.4190 - val_loss: 1.7034 - val_accuracy: 0.4128\n",
      "Epoch 5/10\n",
      "50000/50000 [==============================] - 7s 149us/sample - loss: 1.6976 - accuracy: 0.4229 - val_loss: 1.7048 - val_accuracy: 0.4119\n",
      "Epoch 6/10\n",
      "50000/50000 [==============================] - 8s 151us/sample - loss: 1.6907 - accuracy: 0.4256 - val_loss: 1.7070 - val_accuracy: 0.4125\n",
      "Epoch 7/10\n",
      "50000/50000 [==============================] - 8s 152us/sample - loss: 1.6849 - accuracy: 0.4269 - val_loss: 1.7095 - val_accuracy: 0.4152\n",
      "Epoch 8/10\n",
      "50000/50000 [==============================] - 8s 156us/sample - loss: 1.6811 - accuracy: 0.4286 - val_loss: 1.7082 - val_accuracy: 0.4133\n",
      "Epoch 9/10\n",
      "50000/50000 [==============================] - 8s 155us/sample - loss: 1.6763 - accuracy: 0.4303 - val_loss: 1.7144 - val_accuracy: 0.4089\n",
      "Epoch 10/10\n",
      "50000/50000 [==============================] - 8s 154us/sample - loss: 1.6725 - accuracy: 0.4310 - val_loss: 1.7237 - val_accuracy: 0.4035\n"
     ]
    },
    {
     "data": {
      "text/plain": [
       "<tensorflow.python.keras.callbacks.History at 0x24e262cc088>"
      ]
     },
     "execution_count": 12,
     "metadata": {},
     "output_type": "execute_result"
    }
   ],
   "source": [
    "model.fit(x_train\n",
    "          , y_train\n",
    "          , batch_size=32\n",
    "          , epochs=10\n",
    "          , shuffle=True\n")"
   ]
  },
  {
   "cell_type": "code",
   "execution_count": 13,
   "metadata": {},
   "outputs": [
    {
     "data": {
      "text/plain": [
       "[array([[-0.02309584, -0.08243734,  0.0042832 , ..., -0.1076217 ,\n",
       "          0.09677894, -0.1465976 ],\n",
       "        [ 0.03444752, -0.04145108, -0.012777  , ...,  0.06436926,\n",
       "         -0.03233058, -0.05133403],\n",
       "        [ 0.09916892, -0.09955294, -0.08924992, ...,  0.05481987,\n",
       "          0.10009229,  0.09798973],\n",
       "        ...,\n",
       "        [-0.04582707,  0.04107304,  0.09047828, ...,  0.06083403,\n",
       "         -0.1526799 ,  0.0806373 ],\n",
       "        [-0.00481107,  0.05132521, -0.00642456, ...,  0.09524479,\n",
       "         -0.05514384,  0.1127812 ],\n",
       "        [ 0.08228346,  0.0569216 ,  0.06434664, ...,  0.2087535 ,\n",
       "         -0.13459453, -0.1098827 ]], dtype=float32),\n",
       " array([-0.06142497, -0.00187121,  0.06970613,  0.11152246,  0.02311523,\n",
       "         0.02503566, -0.02646585, -0.04344603, -0.04603062, -0.07251076],\n",
       "       dtype=float32)]"
      ]
     },
     "execution_count": 13,
     "metadata": {},
     "output_type": "execute_result"
    }
   ],
   "source": [
    "model.layers[4].get_weights()"
   ]
  },
  {
   "cell_type": "markdown",
   "metadata": {},
   "source": [
    "## Results analysis"
   ]
  },
  {
   "cell_type": "code",
   "execution_count": null,
   "metadata": {},
   "outputs": [],
   "source": [
    "model.evaluate(x_test, y_test, batch_size=1000)"
   ]
  },
  {
   "cell_type": "code",
   "execution_count": 15,
   "metadata": {},
   "outputs": [],
   "source": [
    "CLASSES = np.array(['airplane', 'automobile', 'bird', 'cat', 'deer', 'dog', 'frog', 'horse', 'ship', 'truck'])\n",
    "\n",
    "preds = model.predict(x_test)\n",
    "preds_single = CLASSES[np.argmax(preds, axis = -1)]\n",
    "actual_single = CLASSES[np.argmax(y_test, axis = -1)]"
   ]
  },
  {
   "cell_type": "code",
   "execution_count": 16,
   "metadata": {},
   "outputs": [
    {
     "data": {
      "image/png": "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\n",
      "text/plain": [
       "<Figure size 864x72 with 8 Axes>"
      ]
     },
     "metadata": {
      "needs_background": "light"
     },
     "output_type": "display_data"
    }
   ],
   "source": [
    "import matplotlib.pyplot as plt\n",
    "\n",
    "n_to_show = 8\n",
    "indices = np.random.choice(range(len(x_test)), n_to_show)\n",
    "\n",
    "fig = plt.figure(figsize=(12, 1))\n",
    "fig.subplots_adjust(hspace=0.4, wspace=0.4)\n",
    "\n",
    "for i, idx in enumerate(indices):\n",
    "    img = x_test[idx]\n",
    "    ax = fig.add_subplot(1, n_to_show, i+1)\n",
    "    ax.axis('off')\n",
    "    ax.text(0.5, -0.35, 'pred = ' + str(preds_single[idx]), fontsize=10, ha='center', transform=ax.transAxes) \n",
    "    ax.text(0.5, -0.7, 'act = ' + str(actual_single[idx]), fontsize=10, ha='center', transform=ax.transAxes)\n",
    "    ax.imshow(img)\n"
   ]
  }
 ],
 "metadata": {
  "kernelspec": {
   "display_name": "Python 3",
   "language": "python",
   "name": "python3"
  },
  "language_info": {
   "codemirror_mode": {
    "name": "ipython",
    "version": 3
   },
   "file_extension": ".py",
   "mimetype": "text/x-python",
   "name": "python",
   "nbconvert_exporter": "python",
   "pygments_lexer": "ipython3",
   "version": "3.7.7"
  }
 },
 "nbformat": 4,
 "nbformat_minor": 4
}
