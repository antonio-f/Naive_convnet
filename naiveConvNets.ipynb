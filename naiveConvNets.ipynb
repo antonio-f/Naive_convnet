{
 "cells": [
  {
   "cell_type": "code",
   "execution_count": 72,
   "id": "d033cece",
   "metadata": {},
   "outputs": [],
   "source": [
    "import numpy as np \n",
    "import matplotlib.pyplot as plt \n",
    "\n",
    "from tensorflow.keras.layers import Input, Flatten, Dense, Conv2D\n",
    "from tensorflow.keras.models import Model\n",
    "from tensorflow.keras.optimizers import Adam\n",
    "from tensorflow.keras.utils import to_categorical\n",
    "\n",
    "from tensorflow.keras.datasets import cifar10 "
   ]
  },
  {
   "cell_type": "code",
   "execution_count": 73,
   "id": "0ea9144a",
   "metadata": {},
   "outputs": [],
   "source": [
    "NUM_CLASSES = 10\n",
    "\n",
    "(x_train, y_train), (x_test, y_test) = cifar10.load_data()\n",
    "\n",
    "x_train = x_train.astype('float32') / 255.0\n",
    "x_test = x_test.astype('float32') / 255.0\n",
    "\n",
    "y_train = to_categorical(y_train, NUM_CLASSES)\n",
    "y_test = to_categorical(y_test, NUM_CLASSES)  "
   ]
  },
  {
   "cell_type": "code",
   "execution_count": 74,
   "id": "e10a9ac4",
   "metadata": {},
   "outputs": [],
   "source": [
    "input_layer = Input(shape=(32,32,3))\n",
    "\n",
    "conv_layer_1 = Conv2D(filters = 10, \n",
    "                      kernel_size = (4,4), \n",
    "                      strides = 2, \n",
    "                      padding = 'same')(input_layer)\n",
    "\n",
    "conv_layer_2 = Conv2D(filters = 20, \n",
    "                      kernel_size = (3,3), \n",
    "                      strides = 2, \n",
    "                      padding = 'same')(conv_layer_1)\n",
    "\n",
    "flatten_layer = Flatten()(conv_layer_2)\n",
    "output_layer = Dense(units=10, activation='softmax')(flatten_layer)\n",
    "model = Model(input_layer, output_layer)"
   ]
  },
  {
   "cell_type": "code",
   "execution_count": 75,
   "id": "df746c58",
   "metadata": {},
   "outputs": [],
   "source": [
    "opt = Adam(lr=0.0002)\n",
    "model.compile(loss='categorical_crossentropy', \n",
    "              optimizer=opt, \n",
    "              metrics=['accuracy'])"
   ]
  },
  {
   "cell_type": "code",
   "execution_count": 76,
   "id": "af5751ab",
   "metadata": {},
   "outputs": [
    {
     "name": "stdout",
     "output_type": "stream",
     "text": [
      "Epoch 1/10\n",
      "WARNING:tensorflow:AutoGraph could not transform <function Model.make_train_function.<locals>.train_function at 0x7fa6153947b8> and will run it as-is.\n",
      "Please report this to the TensorFlow team. When filing the bug, set the verbosity to 10 (on Linux, `export AUTOGRAPH_VERBOSITY=10`) and attach the full output.\n",
      "Cause: 'arguments' object has no attribute 'posonlyargs'\n",
      "To silence this warning, decorate the function with @tf.autograph.experimental.do_not_convert\n",
      "WARNING: AutoGraph could not transform <function Model.make_train_function.<locals>.train_function at 0x7fa6153947b8> and will run it as-is.\n",
      "Please report this to the TensorFlow team. When filing the bug, set the verbosity to 10 (on Linux, `export AUTOGRAPH_VERBOSITY=10`) and attach the full output.\n",
      "Cause: 'arguments' object has no attribute 'posonlyargs'\n",
      "To silence this warning, decorate the function with @tf.autograph.experimental.do_not_convert\n"
     ]
    },
    {
     "name": "stderr",
     "output_type": "stream",
     "text": [
      "2022-02-19 11:25:05.754343: W tensorflow/core/framework/cpu_allocator_impl.cc:82] Allocation of 614400000 exceeds 10% of free system memory.\n"
     ]
    },
    {
     "name": "stdout",
     "output_type": "stream",
     "text": [
      "1563/1563 [==============================] - 5s 3ms/step - loss: 1.9182 - accuracy: 0.3208\n",
      "Epoch 2/10\n",
      "1563/1563 [==============================] - 5s 3ms/step - loss: 1.7826 - accuracy: 0.3832\n",
      "Epoch 3/10\n",
      "1563/1563 [==============================] - 5s 3ms/step - loss: 1.7485 - accuracy: 0.3986\n",
      "Epoch 4/10\n",
      "1563/1563 [==============================] - 5s 3ms/step - loss: 1.7295 - accuracy: 0.4068\n",
      "Epoch 5/10\n",
      "1563/1563 [==============================] - 5s 3ms/step - loss: 1.7188 - accuracy: 0.4110\n",
      "Epoch 6/10\n",
      "1563/1563 [==============================] - 5s 3ms/step - loss: 1.7106 - accuracy: 0.4155\n",
      "Epoch 7/10\n",
      "1563/1563 [==============================] - 5s 3ms/step - loss: 1.7042 - accuracy: 0.4182\n",
      "Epoch 8/10\n",
      "1563/1563 [==============================] - 5s 3ms/step - loss: 1.6994 - accuracy: 0.4207\n",
      "Epoch 9/10\n",
      "1563/1563 [==============================] - 5s 3ms/step - loss: 1.6960 - accuracy: 0.4239\n",
      "Epoch 10/10\n",
      "1563/1563 [==============================] - 5s 3ms/step - loss: 1.6923 - accuracy: 0.4243\n"
     ]
    },
    {
     "data": {
      "text/plain": [
       "<keras.callbacks.History at 0x7fa6153b25c0>"
      ]
     },
     "execution_count": 76,
     "metadata": {},
     "output_type": "execute_result"
    }
   ],
   "source": [
    "model.fit(x_train, \n",
    "          y_train, \n",
    "          batch_size=32, \n",
    "          epochs=10, \n",
    "          shuffle=True)"
   ]
  },
  {
   "cell_type": "code",
   "execution_count": null,
   "id": "b0f9175c",
   "metadata": {
    "scrolled": true
   },
   "outputs": [],
   "source": [
    "model.evaluate(x_test, y_test)"
   ]
  },
  {
   "cell_type": "code",
   "execution_count": null,
   "id": "a149cef5",
   "metadata": {
    "scrolled": true
   },
   "outputs": [],
   "source": [
    "CLASSES = np.array(['airplane', 'automobile', 'bird', \n",
    "                    'cat','deer', 'dog', 'frog', \n",
    "                    'horse', 'ship', 'truck'])\n",
    "\n",
    "\n",
    "preds = model.predict(x_test)\n",
    "preds_class = CLASSES[np.argmax(preds, axis = -1)]\n",
    "actual_class = CLASSES[np.argmax(y_test, axis = -1)]"
   ]
  },
  {
   "cell_type": "code",
   "execution_count": 78,
   "id": "4fc7939f",
   "metadata": {},
   "outputs": [
    {
     "data": {
      "image/png": "[encoded data removed]",
      "text/plain": [
       "<Figure size 1008x72 with 8 Axes>"
      ]
     },
     "metadata": {
      "needs_background": "light"
     },
     "output_type": "display_data"
    }
   ],
   "source": [
    "n_to_show = 8\n",
    "indices = np.random.choice(range(len(x_test)), n_to_show)\n",
    "\n",
    "fig = plt.figure(figsize=(14, 1))\n",
    "fig.subplots_adjust(hspace=0.3, wspace=0.3)\n",
    "\n",
    "for i, idx in enumerate(indices):\n",
    "    img = x_test[idx]\n",
    "    ax = fig.add_subplot(1, n_to_show, i+1)\n",
    "    ax.axis('off')\n",
    "    ax.text(0.5, -0.4, 'pred = ' + str(preds_class[idx]),\n",
    "            fontsize=10, ha='center', transform=ax.transAxes)\n",
    "    ax.text(0.5, -0.7, 'true = ' + str(actual_class[idx]),\n",
    "            fontsize=10, ha='center', transform=ax.transAxes)\n",
    "    ax.imshow(img)"
   ]
  },
  {
   "cell_type": "code",
   "execution_count": 26,
   "id": "9acdf25b",
   "metadata": {},
   "outputs": [],
   "source": [
    "from tensorflow.keras.layers import(BatchNormalization, \n",
    "                                    LeakyReLU, \n",
    "                                    Dropout, \n",
    "                                    Activation)"
   ]
  },
  {
   "cell_type": "code",
   "execution_count": 18,
   "id": "7b127890",
   "metadata": {},
   "outputs": [],
   "source": [
    "input_layer = Input((32,32,3))\n",
    "\n",
    "x = Conv2D(filters = 32, \n",
    "           kernel_size = 3 , \n",
    "           strides = 1, \n",
    "           padding = 'same')(input_layer)\n",
    "x = BatchNormalization()(x)\n",
    "x = LeakyReLU()(x)\n",
    "\n",
    "x = Conv2D(filters = 32, \n",
    "           kernel_size = 3, \n",
    "           strides = 2, \n",
    "           padding = 'same')(x)\n",
    "x = BatchNormalization()(x)\n",
    "x = LeakyReLU()(x)\n",
    "\n",
    "x = Conv2D(filters = 64, \n",
    "           kernel_size = 3, \n",
    "           strides = 1, \n",
    "           padding = 'same')(x)\n",
    "x = BatchNormalization()(x)\n",
    "x = LeakyReLU()(x)\n",
    "\n",
    "x = Conv2D(filters = 64, \n",
    "           kernel_size = 3, \n",
    "           strides = 2, \n",
    "           padding = 'same')(x)\n",
    "x = BatchNormalization()(x)\n",
    "x = LeakyReLU()(x)\n",
    "\n",
    "x = Flatten()(x)\n",
    "\n",
    "x = Dense(128)(x)\n",
    "x = BatchNormalization()(x)\n",
    "x = LeakyReLU()(x)\n",
    "x = Dropout(rate = 0.5)(x)\n",
    "\n",
    "x = Dense(NUM_CLASSES)(x)\n",
    "output_layer = Activation('softmax')(x)\n",
    "\n",
    "model = Model(input_layer, output_layer)"
   ]
  },
  {
   "cell_type": "code",
   "execution_count": 20,
   "id": "291c48e8",
   "metadata": {},
   "outputs": [],
   "source": [
    "opt = Adam(lr=0.0002)\n",
    "model.compile(loss='categorical_crossentropy', \n",
    "              optimizer=opt, \n",
    "              metrics=['accuracy'])"
   ]
  },
  {
   "cell_type": "code",
   "execution_count": 21,
   "id": "17fe819d",
   "metadata": {},
   "outputs": [
    {
     "name": "stderr",
     "output_type": "stream",
     "text": [
      "2022-02-19 08:38:08.532790: W tensorflow/core/framework/cpu_allocator_impl.cc:81] Allocation of 614400000 exceeds 10% of system memory.\n"
     ]
    },
    {
     "name": "stdout",
     "output_type": "stream",
     "text": [
      "Train on 50000 samples\n",
      "Epoch 1/10\n",
      "50000/50000 [==============================] - 53s 1ms/sample - loss: 1.6773 - accuracy: 0.4204\n",
      "Epoch 2/10\n",
      "50000/50000 [==============================] - 53s 1ms/sample - loss: 1.2837 - accuracy: 0.5456\n",
      "Epoch 3/10\n",
      "50000/50000 [==============================] - 53s 1ms/sample - loss: 1.1076 - accuracy: 0.6130\n",
      "Epoch 4/10\n",
      "50000/50000 [==============================] - 53s 1ms/sample - loss: 1.0068 - accuracy: 0.6488\n",
      "Epoch 5/10\n",
      "50000/50000 [==============================] - 53s 1ms/sample - loss: 0.9356 - accuracy: 0.6757\n",
      "Epoch 6/10\n",
      "50000/50000 [==============================] - 54s 1ms/sample - loss: 0.8739 - accuracy: 0.6947\n",
      "Epoch 7/10\n",
      "50000/50000 [==============================] - 55s 1ms/sample - loss: 0.8300 - accuracy: 0.7117\n",
      "Epoch 8/10\n",
      "50000/50000 [==============================] - 55s 1ms/sample - loss: 0.7837 - accuracy: 0.7263\n",
      "Epoch 9/10\n",
      "50000/50000 [==============================] - 51s 1ms/sample - loss: 0.7478 - accuracy: 0.7385\n",
      "Epoch 10/10\n",
      "50000/50000 [==============================] - 54s 1ms/sample - loss: 0.7166 - accuracy: 0.7503\n"
     ]
    },
    {
     "data": {
      "text/plain": [
       "<tensorflow.python.keras.callbacks.History at 0x7f42241e0400>"
      ]
     },
     "execution_count": 21,
     "metadata": {},
     "output_type": "execute_result"
    }
   ],
   "source": [
    "model.fit(x_train, \n",
    "          y_train, \n",
    "          batch_size=32, \n",
    "          epochs=10, \n",
    "          shuffle=True)"
   ]
  },
  {
   "cell_type": "code",
   "execution_count": 22,
   "id": "3b33bd43",
   "metadata": {
    "scrolled": true
   },
   "outputs": [
    {
     "name": "stdout",
     "output_type": "stream",
     "text": [
      "  256/10000 [..............................] - ETA: 6s - loss: 0.8790 - accuracy: 0.6719 "
     ]
    },
    {
     "name": "stderr",
     "output_type": "stream",
     "text": [
      "2022-02-19 09:02:39.681177: W tensorflow/core/framework/cpu_allocator_impl.cc:81] Allocation of 122880000 exceeds 10% of system memory.\n"
     ]
    },
    {
     "name": "stdout",
     "output_type": "stream",
     "text": [
      "10000/10000 [==============================] - 2s 240us/sample - loss: 0.8431 - accuracy: 0.7107\n"
     ]
    },
    {
     "data": {
      "text/plain": [
       "[0.843073811340332, 0.7107]"
      ]
     },
     "execution_count": 22,
     "metadata": {},
     "output_type": "execute_result"
    }
   ],
   "source": [
    "model.evaluate(x_test, y_test)"
   ]
  }
 ],
 "metadata": {
  "kernelspec": {
   "display_name": "Python 3 (ipykernel)",
   "language": "python",
   "name": "python3"
  },
  "language_info": {
   "codemirror_mode": {
    "name": "ipython",
    "version": 3
   },
   "file_extension": ".py",
   "mimetype": "text/x-python",
   "name": "python",
   "nbconvert_exporter": "python",
   "pygments_lexer": "ipython3",
   "version": "3.7.0"
  }
 },
 "nbformat": 4,
 "nbformat_minor": 5
}
